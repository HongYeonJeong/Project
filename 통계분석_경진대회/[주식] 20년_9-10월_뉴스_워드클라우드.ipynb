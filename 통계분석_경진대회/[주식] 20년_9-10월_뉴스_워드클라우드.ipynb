{
 "cells": [
  {
   "cell_type": "markdown",
   "metadata": {},
   "source": [
    "# **주식_뉴스_원문_20년 9월 10월**"
   ]
  },
  {
   "cell_type": "markdown",
   "metadata": {},
   "source": [
    "### 파일 읽기"
   ]
  },
  {
   "cell_type": "code",
   "execution_count": 1,
   "metadata": {},
   "outputs": [
    {
     "name": "stdout",
     "output_type": "stream",
     "text": [
      "<class 'str'>\n"
     ]
    }
   ],
   "source": [
    "import pandas as pd\n",
    "import numpy as np\n",
    "\n",
    "df = pd.read_csv(\"news_article_Naver_stock_20_910.csv\")\n",
    "df_data = str(np.array(df['contents'].tolist()))\n",
    "print(type(df_data))"
   ]
  },
  {
   "cell_type": "markdown",
   "metadata": {},
   "source": [
    "### 토크나이즈"
   ]
  },
  {
   "cell_type": "code",
   "execution_count": 2,
   "metadata": {},
   "outputs": [
    {
     "name": "stdout",
     "output_type": "stream",
     "text": [
      "269761\n"
     ]
    }
   ],
   "source": [
    "from konlpy.tag import Okt\n",
    "\n",
    "t = Okt()\n",
    "tokens = t.morphs(df_data)\n",
    "print(len(tokens))"
   ]
  },
  {
   "cell_type": "markdown",
   "metadata": {},
   "source": [
    "### 품사 태깅"
   ]
  },
  {
   "cell_type": "code",
   "execution_count": 3,
   "metadata": {},
   "outputs": [
    {
     "name": "stdout",
     "output_type": "stream",
     "text": [
      "[('[\"[\\'\\\\\\\\', 'Punctuation'), ('n', 'Alpha'), ('\\\\\\\\', 'Punctuation'), ('n', 'Alpha'), ('\\\\\\\\', 'Punctuation'), ('n', 'Alpha'), ('\\\\\\\\', 'Punctuation'), ('n', 'Alpha'), ('\\\\\\\\', 'Punctuation'), ('n', 'Alpha'), ('\\\\\\\\', 'Punctuation'), ('t', 'Alpha'), ('\\\\\\\\', 'Punctuation'), ('n', 'Alpha'), ('\\\\\\\\', 'Punctuation'), ('t', 'Alpha'), ('[', 'Punctuation'), ('경향신문', 'Noun'), (']', 'Punctuation'), ('2030', 'Number'), ('세대', 'Noun'), ('의', 'Josa'), ('주식', 'Noun'), ('열풍', 'Noun'), ('에', 'Josa'), ('사회', 'Noun'), ('적', 'Suffix'), ('으로', 'Josa'), ('우려', 'Noun'), ('의', 'Josa'), ('시선', 'Noun'), ('이', 'Josa'), ('쏟아진다', 'Verb'), ('.', 'Punctuation'), ('동학', 'Noun'), ('개미', 'Noun'), ('운동', 'Noun'), ('이라는', 'Josa'), ('짧고', 'Adjective'), ('강렬한', 'Adjective'), ('경험', 'Noun'), ('을', 'Josa'), ('거치', 'Noun'), ('며', 'Josa'), ('시장', 'Noun'), ('을', 'Josa'), ('너무', 'Adverb'), ('만만하게', 'Adjective'), ('보게', 'Verb'), ('된', 'Verb'), ('것', 'Noun'), ('아니냐는', 'Adjective'), ('것', 'Noun'), ('이다', 'Josa'), ('.', 'Punctuation'), ('많은', 'Adjective'), ('투자자', 'Noun'), ('들', 'Suffix'), ('을', 'Josa'), ('절망', 'Noun'), ('케', 'Noun'), ('한', 'Verb'), ('2000년', 'Number'), ('대의', 'Foreign'), ('닷컴버블', 'Noun'), ('이', 'Josa'), ('앞선', 'Verb'), ('세대', 'Noun'), ('에게', 'Josa'), ('아픈', 'Adjective'), ('기억', 'Noun'), ('으로', 'Josa'), ('남아있', 'Verb'), ('기도', 'Noun'), ('하다', 'Verb'), ('.', 'Punctuation'), ('동학', 'Noun'), ('개미', 'Noun'), ('운동', 'Noun'), ('에', 'Josa'), ('합류', 'Noun'), ('한', 'Josa'), ('청년', 'Noun'), ('투자자', 'Noun'), ('들', 'Suffix'), ('이', 'Josa'), ('건강한', 'Adjective'), ('‘', 'Foreign'), ('장기', 'Noun'), ('투자자', 'Noun'), ('’', 'Punctuation'), ('가', 'Verb'), ('되려면', 'Verb'), ('어떤', 'Adjective'), ('조건', 'Noun'), ('들', 'Suffix'), ('이', 'Josa'), ('필요할까', 'Adjective'), ('.', 'Punctuation'), ('지난', 'Noun'), ('25년', 'Number'), ('간', 'Foreign'), ('증권', 'Noun'), ('업계', 'Noun'), ('에서', 'Josa'), ('시장', 'Noun'), ('의', 'Josa'), ('흥망', 'Noun'), ('을', 'Josa'), ('지켜본', 'Verb'), ('김학균', 'Noun'), ('신', 'Modifier'), ('영', 'Modifier'), ('증권', 'Noun'), ('리서치', 'Noun'), ('센터', 'Noun'), ('장', 'Suffix'), ('(', 'Punctuation'), ('50', 'Number'), (')', 'Punctuation'), ('을', 'Josa'), ('최근', 'Noun'), ('만났다', 'Verb'), ('.', 'Punctuation'), ('지금', 'Noun'), ('증시', 'Noun'), ('는', 'Josa'), ('‘', 'Foreign'), ('버블', 'Noun'), ('’', 'Punctuation'), ('인지', 'Noun'), (',', 'Punctuation'), ('버블', 'Noun'), ('이', 'Josa'), ('꺼지면', 'Verb'), ('어떻게', 'Adjective'), ('되는', 'Verb'), ('건지', 'Verb'), ('물어보려', 'Verb'), ('하자', 'Noun'), ('“', 'Foreign'), ('주식', 'Noun'), ('은', 'Josa'), ('모름', 'Noun'), ('의', 'Josa'), ('철학', 'Noun'), ('”', 'Foreign'), ('이란', 'Noun'), ('말', 'Noun'), ('이', 'Josa'), ('나왔다', 'Verb'), ('.', 'Punctuation'), ('미래', 'Noun'), ('를', 'Josa'), ('예측', 'Noun'), ('할', 'Verb'), ('수', 'Noun'), ('없다면', 'Adjective'), ('무엇', 'Noun'), ('을', 'Josa'), ('믿고', 'Verb'), ('투자', 'Noun'), ('를', 'Josa'), ('할까', 'Verb'), ('.', 'Punctuation'), ('김', 'Noun'), ('센터', 'Noun'), ('장', 'Suffix'), ('은', 'Josa'), ('개별', 'Noun'), ('종목', 'Noun'), ('도', 'Josa'), ('경기', 'Noun'), ('예측', 'Noun'), ('도', 'Josa'), ('아닌', 'Adjective'), ('“', 'Foreign'), ('돈', 'Noun'), ('의', 'Josa'), ('성격', 'Noun'), ('”', 'Foreign'), ('이', 'Noun'), ('투자', 'Noun'), ('의', 'Josa'), ('성', 'Modifier'), ('패', 'Noun'), ('를', 'Josa'), ('좌우', 'Noun'), ('한', 'Josa'), ('다', 'Adverb'), ('고', 'Noun'), ('했다', 'Verb'), ('.', 'Punctuation'), ('위기', 'Noun'), ('에도', 'Josa'), ('버틸', 'Verb'), ('수', 'Noun'), ('있는', 'Adjective'), ('돈', 'Noun'), ('으로', 'Josa'), ('투자', 'Noun'), ('해야', 'Verb'), ('손실', 'Noun'), ('을', 'Josa'), ('면', 'Noun'), ('하고', 'Josa'), (',', 'Punctuation'), ('간혹', 'Noun'), ('큰', 'Verb'), ('수익', 'Noun'), ('도', 'Josa'), ('낼', 'Noun'), ('수', 'Noun'), ('있다는', 'Adjective'), ('얘기', 'Noun'), ('다', 'Josa'), ('.', 'Punctuation'), ('지난달', 'Noun'), ('17일', 'Number'), ('김', 'Noun'), ('센터', 'Noun'), ('장', 'Suffix'), ('을', 'Josa'), ('만났고', 'Verb'), ('여러', 'Noun'), ('번의', 'Noun'), ('통화', 'Noun'), ('로', 'Josa'), ('인터뷰', 'Noun'), ('를', 'Josa'), ('보완', 'Noun'), ('했다', 'Verb'), ('.', 'Punctuation'), ('내용', 'Noun'), ('을', 'Josa'), ('문답', 'Noun'), ('식', 'Suffix'), ('으로', 'Josa'), ('전', 'Noun'), ('한다', 'Verb'), ('.', 'Punctuation'), ('김학균', 'Noun'), ('신', 'Modifier'), ('영', 'Modifier'), ('증권', 'Noun'), ('리서치', 'Noun'), ('센터', 'Noun'), ('장이', 'Suffix'), ('지난달', 'Noun'), ('17일', 'Number'), ('서울', 'Noun'), ('여의도', 'Noun'), ('신', 'Modifier'), ('영', 'Modifier'), ('증권', 'Noun'), ('본사', 'Noun'), ('에서', 'Josa'), ('경향신문', 'Noun'), ('과', 'Josa'), ('인터뷰', 'Noun'), ('하고', 'Josa'), ('있다', 'Adjective'), ('.', 'Punctuation'), ('권도현', 'Noun'), ('기자', 'Noun'), ('짧은', 'Adjective'), ('기사', 'Noun'), ('로', 'Josa'), ('보기', 'Noun'), ('▶“', 'Foreign'), ('젊음', 'Noun'), ('의', 'Josa'), ('가장', 'Noun'), ('큰', 'Verb'), ('자산', 'Noun'), ('은', 'Josa'), ('긴', 'Verb'), ('시간', 'Noun'), ('…', 'Punctuation'), ('빚', 'Noun'), ('아닌', 'Adjective'), ('‘', 'Foreign'), ('감당', 'Noun'), ('가능한', 'Adjective'), ('돈', 'Noun'), ('’', 'Punctuation'), ('묻어야', 'Verb'), ('”#이번', 'Hashtag'), ('주식', 'Noun'), ('열풍', 'Noun'), (',', 'Punctuation'), ('정말', 'Noun'), ('과거', 'Noun'), ('와', 'Josa'), ('다를까', 'Adjective'), ('-', 'Punctuation'), ('대학생', 'Noun'), ('들', 'Suffix'), ('까지', 'Josa'), ('주식', 'Noun')]\n"
     ]
    }
   ],
   "source": [
    "print(t.pos(df_data)[:300])"
   ]
  },
  {
   "cell_type": "code",
   "execution_count": 4,
   "metadata": {},
   "outputs": [
    {
     "name": "stdout",
     "output_type": "stream",
     "text": [
      "121075\n",
      "['경향신문', '세대', '주식', '열풍', '사회', '우려', '시선', '동학', '개미', '운동', '경험', '거치', '시장', '것', '것', '투자자', '절망', '케', '닷컴버블', '세대', '기억', '기도', '동학', '개미', '운동', '합류', '청년', '투자자', '장기', '투자자', '조건', '지난', '증권', '업계', '시장', '흥망', '김학균', '증권', '리서치', '센터', '최근', '지금', '증시', '버블', '인지', '버블', '하자', '주식', '모름', '철학', '이란', '말', '미래', '예측', '수', '무엇', '투자', '김', '센터', '개별', '종목', '경기', '예측', '돈', '성격', '이', '투자', '패', '좌우', '고', '위기', '수', '돈', '투자', '손실', '면', '간혹', '수익', '낼', '수', '얘기', '지난달', '김', '센터', '여러', '번의', '통화', '인터뷰', '보완', '내용', '문답', '전', '김학균', '증권', '리서치', '센터', '지난달', '서울', '여의도', '증권']\n"
     ]
    }
   ],
   "source": [
    "my_words = t.nouns(df_data)\n",
    "\n",
    "print(len(my_words))\n",
    "print(my_words[:100])"
   ]
  },
  {
   "cell_type": "code",
   "execution_count": 5,
   "metadata": {},
   "outputs": [
    {
     "name": "stdout",
     "output_type": "stream",
     "text": [
      "'돈' : 433\n",
      "\n"
     ]
    }
   ],
   "source": [
    "money = [word for word in my_words if word == '돈']\n",
    "money_dict = {}\n",
    "for word in money:\n",
    "    money_dict[word] = money_dict.get(word, 0) + 1\n",
    "\n",
    "for key in money_dict:\n",
    "    print(f'{repr(key)} : {money_dict[key]}')\n",
    "    print()"
   ]
  },
  {
   "cell_type": "markdown",
   "metadata": {},
   "source": [
    "### 불용어 제거"
   ]
  },
  {
   "cell_type": "code",
   "execution_count": 6,
   "metadata": {},
   "outputs": [
    {
     "name": "stdout",
     "output_type": "stream",
     "text": [
      "['경향신문', '세대', '주식', '열풍', '사회', '우려', '시선', '동학', '개미', '운동', '경험', '거치', '시장', '투자자', '절망', '닷컴버블', '세대', '기억', '기도', '동학', '개미', '운동', '합류', '청년', '투자자', '장기', '투자자', '조건', '지난', '증권', '업계', '시장', '흥망', '김학균', '증권', '리서치', '센터', '최근', '지금', '증시', '버블', '인지', '버블', '하자', '주식', '모름', '철학', '이란', '미래', '예측', '무엇', '투자', '센터', '개별', '종목', '경기', '예측', '성격', '투자', '좌우', '위기', '투자', '손실', '간혹', '수익', '얘기', '지난달', '센터', '여러', '번의', '통화', '인터뷰', '보완', '내용', '문답', '김학균', '증권', '리서치', '센터', '지난달', '서울', '여의도', '증권', '본사', '경향신문', '인터뷰', '권도현', '기자', '기사', '보기', '젊음', '가장', '자산', '시간', '감당', '주식', '열풍', '정말', '과거', '대학생', '주식', '투자', '보고', '걱정', '목소리', '청년', '세대', '투자', '생각', '듭니', '주식', '투자', '생각', '금리', '적금', '다른', '선택', '합리', '이지', '다른', '자산군', '주식', '투자', '보시', '이유', '뭔가', '소액', '수가', '주주', '기업', '도우', '면서', '방법', '기업', '주식', '사면', '기업', '직원', '위해', '이전', '주식', '열풍', '지금', '쓰시', '주식', '열풍', '기사', '신문', '바이', '코리아', '펀드', '인사이트', '펀드', '주식', '펀드', '유행', '이후', '주식', '투자', '열풍', '로부터', '주식', '절대', '경험', '때문', '가격', '손해', '경험', '미국', '경제학자', '찰스', '킨들', '버거', '친구', '부자', '사람', '판단력', '지난', '센티', '멘트', '주식', '시장', '영향', '분위기', '심리', '요소', '투자', '사람', '주변', '바보', '생각', '주식', '사기', '시작', '바이오', '빅히트', '엔터테인먼트', '최근', '모주', '열풍', '마치', '상한', '대한', '법칙', '사람', '주식', '양상', '초반', '닷컴버블', '상장', '일주일', '얼마', '과잉', '투자', '기사', '투자자', '미디어', '시각', '모두', '기적', '사례', '증시', '아주', '심리', '영역', '이군', '투자', '사서', '과거', '국내', '가계', '주식', '투자', '이유', '가격', '때문', '생각', '우리', '마음', '인지', '속성', '가격', '가격', '미래', '예측', '대부분', '지금', '경험', '현재', '과거', '생각', '반면', '동학', '개미', '운동', '성공', '평가', '코로나', '대유행', '이후', '국내', '증시', '정도', '먼저', '우리', '증시', '모양새', '주가', '외국인', '사고', '바닥', '최소', '그때', '주식', '펀드', '형태', '외국인', '한국', '증시', '독립', '제목', '기사', '외국인', '팔면', '국내', '가계', '간접', '투자', '형태', '올해', '양상', '보시', '건가', '주식', '사람', '매우', '예외', '바닥', '외국인', '사고']\n"
     ]
    }
   ],
   "source": [
    "tokens =  [word for word in my_words if len(word) > 1]\n",
    "print(tokens[:300])"
   ]
  },
  {
   "cell_type": "code",
   "execution_count": 10,
   "metadata": {},
   "outputs": [],
   "source": [
    "stop_words = ['가장', '때문', '통해', '대해', '위해', '관련', '정도', '지금', '최근',\n",
    "             '다른', '지금', '라며', '하나', '지난', '이상', '사진', '우리', '사실',\n",
    "             '경우', '크게', '오후', '하루', '이후', '올해', '확인', '결과', '모두',\n",
    "             '하우스', '이번', '현재', '이유', '사례', '심사', '진행', '특급', '여러',\n",
    "             '위원', '가지', '자신', '보고', '회장', '기자']\n",
    "\n",
    "my_words = [word for word in tokens if word not in stop_words]"
   ]
  },
  {
   "cell_type": "markdown",
   "metadata": {},
   "source": [
    "### 빈도수 사전"
   ]
  },
  {
   "cell_type": "code",
   "execution_count": 11,
   "metadata": {},
   "outputs": [
    {
     "name": "stdout",
     "output_type": "stream",
     "text": [
      "'투자' : 1369\n",
      "\n",
      "'주식' : 1293\n",
      "\n",
      "'사람' : 523\n",
      "\n",
      "'돈' : 462\n",
      "\n",
      "'투자자' : 430\n",
      "\n",
      "'생각' : 409\n",
      "\n",
      "'한국' : 401\n",
      "\n",
      "'코로나' : 399\n",
      "\n",
      "'경제' : 377\n",
      "\n",
      "'대표' : 368\n",
      "\n",
      "'대학생' : 363\n",
      "\n",
      "'세대' : 341\n",
      "\n",
      "'기업' : 333\n",
      "\n",
      "'뉴스' : 328\n",
      "\n",
      "'배달' : 325\n",
      "\n",
      "'청년' : 297\n",
      "\n",
      "'대한' : 287\n",
      "\n",
      "'경기도' : 282\n",
      "\n",
      "'시장' : 280\n",
      "\n",
      "'개인' : 254\n",
      "\n",
      "'서울' : 247\n",
      "\n",
      "'미국' : 238\n",
      "\n",
      "'의원' : 233\n",
      "\n",
      "'대상' : 230\n",
      "\n",
      "'시작' : 229\n",
      "\n",
      "'문제' : 224\n",
      "\n",
      "'대출' : 219\n",
      "\n",
      "'증권' : 213\n",
      "\n",
      "'이야기' : 212\n",
      "\n",
      "'정부' : 203\n",
      "\n",
      "'운영' : 199\n",
      "\n",
      "'거래' : 198\n",
      "\n",
      "'주가' : 196\n",
      "\n",
      "'사회' : 193\n",
      "\n",
      "'네이버' : 193\n",
      "\n",
      "'금지' : 193\n",
      "\n",
      "'부동산' : 190\n",
      "\n",
      "'무단' : 190\n",
      "\n",
      "'회사' : 187\n",
      "\n",
      "'상황' : 186\n",
      "\n",
      "'배포' : 184\n",
      "\n",
      "'개미' : 178\n",
      "\n",
      "'국내' : 172\n",
      "\n",
      "'문화' : 166\n",
      "\n",
      "'서비스' : 166\n",
      "\n",
      "'지원' : 160\n",
      "\n",
      "'미래' : 158\n",
      "\n",
      "'금융' : 158\n",
      "\n",
      "'구독' : 158\n",
      "\n",
      "'수출' : 158\n",
      "\n",
      "'선정' : 157\n",
      "\n",
      "'주식회사' : 155\n",
      "\n",
      "'수익' : 154\n",
      "\n",
      "'전문가' : 151\n",
      "\n",
      "'사업' : 149\n",
      "\n",
      "'명칭' : 149\n",
      "\n",
      "'자산' : 148\n",
      "\n",
      "'국민' : 148\n",
      "\n",
      "'해외' : 146\n",
      "\n",
      "'가격' : 144\n",
      "\n",
      "'자금' : 144\n",
      "\n",
      "'빚투' : 143\n",
      "\n",
      "'지역' : 140\n",
      "\n",
      "'학교' : 139\n",
      "\n",
      "'종목' : 138\n",
      "\n",
      "'유튜브' : 136\n",
      "\n",
      "'장관' : 134\n",
      "\n",
      "'시간' : 131\n",
      "\n",
      "'과정' : 129\n",
      "\n",
      "'조사' : 128\n",
      "\n",
      "'세계' : 127\n",
      "\n",
      "'금리' : 126\n",
      "\n",
      "'학생' : 125\n",
      "\n",
      "'주식시장' : 125\n",
      "\n",
      "'기준' : 124\n",
      "\n",
      "'채널' : 124\n",
      "\n",
      "'교육' : 122\n",
      "\n",
      "'설명' : 120\n",
      "\n",
      "'대학' : 120\n",
      "\n",
      "'예정' : 120\n",
      "\n",
      "'수준' : 119\n",
      "\n",
      "'최종' : 119\n",
      "\n",
      "'온라인' : 118\n",
      "\n",
      "'영상' : 118\n",
      "\n",
      "'장기' : 117\n",
      "\n",
      "'유찬' : 117\n",
      "\n",
      "'활동' : 116\n",
      "\n",
      "'가운데' : 116\n",
      "\n",
      "'경험' : 115\n",
      "\n",
      "'당시' : 115\n",
      "\n",
      "'계속' : 114\n",
      "\n",
      "'공식' : 114\n",
      "\n",
      "'중국' : 113\n",
      "\n",
      "'주주' : 111\n",
      "\n",
      "'정보' : 111\n",
      "\n",
      "'관심' : 111\n",
      "\n",
      "'소득' : 110\n",
      "\n",
      "'관리' : 110\n",
      "\n",
      "'참여' : 107\n",
      "\n",
      "'공부' : 106\n",
      "\n"
     ]
    }
   ],
   "source": [
    "article_dict = {}\n",
    "\n",
    "for word in my_words:\n",
    "    article_dict[word] = article_dict.get(word, 0) + 1\n",
    "\n",
    "article_dict['돈'] = 462\n",
    "sorted_dict = sorted(article_dict, key=article_dict.get, reverse=True)\n",
    "\n",
    "for key in sorted_dict[:100]:\n",
    "    print(f'{repr(key)} : {article_dict[key]}')\n",
    "    print()"
   ]
  },
  {
   "cell_type": "markdown",
   "metadata": {},
   "source": [
    "### 워드 클라우드"
   ]
  },
  {
   "cell_type": "code",
   "execution_count": 12,
   "metadata": {},
   "outputs": [
    {
     "data": {
      "image/png": "[encoded data removed]",
      "text/plain": [
       "<Figure size 432x288 with 1 Axes>"
      ]
     },
     "metadata": {
      "needs_background": "light"
     },
     "output_type": "display_data"
    }
   ],
   "source": [
    "from matplotlib import font_manager, rc\n",
    "import matplotlib.pyplot as plt\n",
    "%matplotlib inline\n",
    "\n",
    "from wordcloud import WordCloud\n",
    "from PIL import Image\n",
    "\n",
    "font_path = 'c:/Windows/Fonts/malgun.ttf'\n",
    "image = np.array(Image.open('circle.png'))\n",
    "\n",
    "wc = WordCloud(\n",
    "    font_path = font_path,\n",
    "    width = 800,\n",
    "    height = 400,\n",
    "    mask = image,\n",
    "    background_color = 'white',\n",
    "    max_words = 80)\n",
    "\n",
    "wc.generate_from_frequencies(article_dict)\n",
    "\n",
    "wc.to_file('article_stock_20_910.png')\n",
    "\n",
    "plt.figure()\n",
    "plt.axis('off')\n",
    "plt.imshow(wc, interpolation='bilinear')\n",
    "plt.show()"
   ]
  },
  {
   "cell_type": "code",
   "execution_count": null,
   "metadata": {},
   "outputs": [],
   "source": []
  }
 ],
 "metadata": {
  "kernelspec": {
   "display_name": "Python 3",
   "language": "python",
   "name": "python3"
  },
  "language_info": {
   "codemirror_mode": {
    "name": "ipython",
    "version": 3
   },
   "file_extension": ".py",
   "mimetype": "text/x-python",
   "name": "python",
   "nbconvert_exporter": "python",
   "pygments_lexer": "ipython3",
   "version": "3.7.3"
  }
 },
 "nbformat": 4,
 "nbformat_minor": 2
}
