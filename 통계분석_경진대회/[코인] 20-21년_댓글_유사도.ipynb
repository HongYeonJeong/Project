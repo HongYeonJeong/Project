{
 "cells": [
  {
   "cell_type": "markdown",
   "metadata": {},
   "source": [
    "## 파일 읽기"
   ]
  },
  {
   "cell_type": "code",
   "execution_count": 1,
   "metadata": {},
   "outputs": [],
   "source": [
    "import pandas as pd\n",
    "import numpy as np\n",
    "\n",
    "df20 = pd.read_csv(\"news_comments_Naver_coin_20_34.csv\")\n",
    "df21 = pd.read_csv(\"news_comments_Naver_coin_21_34.csv\")"
   ]
  },
  {
   "cell_type": "markdown",
   "metadata": {},
   "source": [
    "## 전처리"
   ]
  },
  {
   "cell_type": "code",
   "execution_count": 2,
   "metadata": {},
   "outputs": [],
   "source": [
    "df20.dropna(inplace=True)\n",
    "df21.dropna(inplace=True)\n",
    "\n",
    "data20 = np.array(df20['contents'].tolist())\n",
    "data21 = np.array(df21['contents'].tolist())\n",
    "\n",
    "df_20 = \"\".join(data20)\n",
    "df_21 = \"\".join(data21)"
   ]
  },
  {
   "cell_type": "code",
   "execution_count": 3,
   "metadata": {},
   "outputs": [],
   "source": [
    "from konlpy.tag import Okt\n",
    "\n",
    "t = Okt()\n",
    "\n",
    "df20 = t.nouns(df_20)\n",
    "df21 = t.nouns(df_21)"
   ]
  },
  {
   "cell_type": "code",
   "execution_count": 4,
   "metadata": {},
   "outputs": [
    {
     "name": "stdout",
     "output_type": "stream",
     "text": [
      "# 20년 :  ['대디', '수', '남성', '번방', '사건', '보고', '글', '주변', '그', '따위', '남자', '스스로', '한번', '비트코인', '갑자기', '페미니스트', '승리', '시민', '고문', '언문', '사람', '중학생', '글더', '일기', '장임', '기자', '암호', '화폐', '거래', '대포통장', '뭐', '말', '살', '이자', '아', '원시인', '최고다', '요', '줄', '쓰면될껄', '헛소리', '현금', '젤', '마이', '현금', '케', '자슥', '비트코인', '것', '사리', '느낌', '건', '나', '뿐', '글', '보고', '기자', '줄', '시대', '대처', '거지', '미성년', '로켓', '법', '노인', '발', '대처', '정치인', '문과', '고작', '생각', '게', '정도', '꼭', '번방', '신분증', '모션', '인증', '가입', '등', '여성시대', '고발기', '사나', '욥', '비트코인', '개발자', '타오', '요즘', '기자', '글', '수준', '일기장', '만년', '동안', '세계', '온', '인간', '가장', '본능', '욕구']\n",
      "\n",
      "# 21년 :  ['일기', '일기장', '오', '기자', '며칠', '직접', '나니', '누구', '장난', '해도', '직접', '경험', '사람', '라면', '기자', '경험', '알', '것임', '이', '기사', '니', '걸', '누구', '탓', '해', '넌', '주식', '왜', '내', '사면', '팔면', '주식', '코인', '가격', '정도', '점', '때', '점', '조금', '더', '이치', '반대', '이제', '아야', '최고점', '더', '그', '전문가', '최저', '점', '최고점', '이론', '드니', '스트레스', '임', '주', '젤', '거기', '뭐', '주가', '주주', '제발', '사고', '기전', '타지', '횡보', '며칠', '돈범', '꼭', '폭등', '팔', '손', '존버', '다시', '딘딘', '쫌쫌', '말', '아무', '딘딘하', '코인', '처음', '봄', '딘딘', '코인', '줄', '코인', '주식', '가장', '문제', '걸', '번', '시작', '내', '모든', '관심', '것', '내', '전', '주식', '다시']\n"
     ]
    }
   ],
   "source": [
    "print('# 20년 : ', df20[:100])\n",
    "print()\n",
    "print('# 21년 : ', df21[:100])"
   ]
  },
  {
   "cell_type": "code",
   "execution_count": 13,
   "metadata": {},
   "outputs": [
    {
     "name": "stdout",
     "output_type": "stream",
     "text": [
      "<class 'list'>\n"
     ]
    }
   ],
   "source": [
    "print(type(df20))"
   ]
  },
  {
   "cell_type": "code",
   "execution_count": 10,
   "metadata": {},
   "outputs": [],
   "source": [
    "# 불용어 사전\n",
    "\n",
    "stop_words = ['때', '지금', '것', '더', '이', '말', '그', '거', '왜', '뭐', '수', '지금', '말', '그냥', '뭐', '일', '집', '놈', '니',\n",
    "             '진짜', '좀', '수', '제발', '저', '탓', '저런']\n",
    "\n",
    "df20 = [word for word in df20 if word not in stop_words]\n",
    "df21 = [word for word in df21 if word not in stop_words]"
   ]
  },
  {
   "cell_type": "code",
   "execution_count": 11,
   "metadata": {},
   "outputs": [
    {
     "name": "stdout",
     "output_type": "stream",
     "text": [
      "# 20년 상위 20개 : \n",
      "'사람' : 782\n",
      "'처벌' : 523\n",
      "'개미' : 384\n",
      "'생각' : 365\n",
      "'주식' : 333\n",
      "'공개' : 329\n",
      "'인간' : 316\n",
      "'사형' : 287\n",
      "'남자' : 284\n",
      "'돈' : 283\n",
      "'신상' : 274\n",
      "'기사' : 272\n",
      "'아이' : 252\n",
      "'투자' : 206\n",
      "'정말' : 199\n",
      "'모두' : 198\n",
      "'가해자' : 188\n",
      "'피해자' : 186\n",
      "'사회' : 163\n",
      "'코로나' : 161\n",
      "\n",
      "# 21년 상위 20개 : \n",
      "'코인' : 1606\n",
      "'돈' : 1591\n",
      "'정부' : 1139\n",
      "'투자' : 1064\n",
      "'사람' : 1007\n",
      "'투기' : 901\n",
      "'주식' : 857\n",
      "'화폐' : 855\n",
      "'도박' : 766\n",
      "'가상' : 698\n",
      "'나라' : 560\n",
      "'생각' : 531\n",
      "'비트코인' : 474\n",
      "'세금' : 438\n",
      "'국민' : 417\n",
      "'기사' : 397\n",
      "'민주당' : 340\n",
      "'가치' : 324\n",
      "'보호' : 318\n",
      "'부동산' : 307\n"
     ]
    }
   ],
   "source": [
    "# 빈도수 사전\n",
    "\n",
    "dict_20 = {}\n",
    "dict_21 = {}\n",
    "\n",
    "for word in df20:\n",
    "    dict_20[word] = dict_20.get(word, 0) + 1\n",
    "\n",
    "for word in df21:\n",
    "    dict_21[word] = dict_21.get(word, 0) + 1\n",
    "\n",
    "s_dict_20 = sorted(dict_20, key=dict_20.get, reverse=True)\n",
    "s_dict_21 = sorted(dict_21, key=dict_21.get, reverse=True)\n",
    "\n",
    "print('# 20년 상위 20개 : ')\n",
    "for key in s_dict_20[:20]:\n",
    "    print(f'{repr(key)} : {dict_20[key]}')\n",
    "\n",
    "print()\n",
    "print('# 21년 상위 20개 : ')\n",
    "for key in s_dict_21[:20]:\n",
    "    print(f'{repr(key)} : {dict_21[key]}')    "
   ]
  },
  {
   "cell_type": "markdown",
   "metadata": {},
   "source": [
    "## 수평 막대 그래프\n",
    "\n",
    "### **2020년 3-4월**"
   ]
  },
  {
   "cell_type": "code",
   "execution_count": 12,
   "metadata": {},
   "outputs": [
    {
     "data": {
      "image/png": "[encoded data removed]",
      "text/plain": [
       "<Figure size 432x288 with 1 Axes>"
      ]
     },
     "metadata": {
      "needs_background": "light"
     },
     "output_type": "display_data"
    }
   ],
   "source": [
    "from matplotlib import font_manager, rc\n",
    "import matplotlib.pyplot as plt\n",
    "%matplotlib inline\n",
    "\n",
    "font_name = font_manager.FontProperties(fname='c:/Windows/Fonts/malgun.ttf').get_name()\n",
    "rc('font', family=font_name)\n",
    "\n",
    "n = s_dict_20[:20][::-1]\n",
    "w = [dict_20[key] for key in n]\n",
    "\n",
    "plt.barh(range(len(n)), w, tick_label=n)\n",
    "plt.show()"
   ]
  },
  {
   "cell_type": "markdown",
   "metadata": {},
   "source": [
    "### **2021년 3~4월**"
   ]
  },
  {
   "cell_type": "code",
   "execution_count": 13,
   "metadata": {},
   "outputs": [
    {
     "data": {
      "image/png": "[encoded data removed]",
      "text/plain": [
       "<Figure size 432x288 with 1 Axes>"
      ]
     },
     "metadata": {
      "needs_background": "light"
     },
     "output_type": "display_data"
    }
   ],
   "source": [
    "font_name = font_manager.FontProperties(fname='c:/Windows/Fonts/malgun.ttf').get_name()\n",
    "rc('font', family=font_name)\n",
    "\n",
    "n = s_dict_21[:20][::-1]\n",
    "w = [dict_21[key] for key in n]\n",
    "\n",
    "plt.barh(range(len(n)), w, tick_label=n)\n",
    "plt.show()"
   ]
  },
  {
   "cell_type": "markdown",
   "metadata": {},
   "source": [
    "## 유사도 계산"
   ]
  },
  {
   "cell_type": "code",
   "execution_count": 14,
   "metadata": {},
   "outputs": [],
   "source": [
    "wf_20 = s_dict_20[:1000]\n",
    "wf_21 = s_dict_21[:1000]"
   ]
  },
  {
   "cell_type": "code",
   "execution_count": 15,
   "metadata": {},
   "outputs": [],
   "source": [
    "from sklearn.feature_extraction.text import CountVectorizer\n",
    "\n",
    "cv20 = CountVectorizer(vocabulary=wf_20)\n",
    "cv21 = CountVectorizer(vocabulary=wf_21)"
   ]
  },
  {
   "cell_type": "code",
   "execution_count": 16,
   "metadata": {},
   "outputs": [],
   "source": [
    "df20_cv = cv20.fit_transform([df_20])\n",
    "df21_cv = cv21.fit_transform([df_21])"
   ]
  },
  {
   "cell_type": "code",
   "execution_count": 17,
   "metadata": {},
   "outputs": [
    {
     "name": "stdout",
     "output_type": "stream",
     "text": [
      "[[0.45304149]]\n"
     ]
    }
   ],
   "source": [
    "from sklearn.metrics.pairwise import cosine_similarity\n",
    "\n",
    "sim_result = cosine_similarity(df20_cv, df21_cv)\n",
    "print(sim_result)"
   ]
  }
 ],
 "metadata": {
  "kernelspec": {
   "display_name": "Python 3",
   "language": "python",
   "name": "python3"
  },
  "language_info": {
   "codemirror_mode": {
    "name": "ipython",
    "version": 3
   },
   "file_extension": ".py",
   "mimetype": "text/x-python",
   "name": "python",
   "nbconvert_exporter": "python",
   "pygments_lexer": "ipython3",
   "version": "3.7.3"
  }
 },
 "nbformat": 4,
 "nbformat_minor": 2
}
