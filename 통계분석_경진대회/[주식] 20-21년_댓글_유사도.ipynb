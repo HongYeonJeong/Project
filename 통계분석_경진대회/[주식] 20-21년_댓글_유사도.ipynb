{
 "cells": [
  {
   "cell_type": "markdown",
   "metadata": {},
   "source": [
    "## 파일 읽기"
   ]
  },
  {
   "cell_type": "code",
   "execution_count": 6,
   "metadata": {},
   "outputs": [],
   "source": [
    "import pandas as pd\n",
    "import numpy as np\n",
    "\n",
    "df20 = pd.read_csv(\"news_comments_Naver_stock_20_34.csv\")\n",
    "df21 = pd.read_csv(\"news_comments_Naver_stock_21_34.csv\")"
   ]
  },
  {
   "cell_type": "markdown",
   "metadata": {},
   "source": [
    "## 전처리"
   ]
  },
  {
   "cell_type": "code",
   "execution_count": 8,
   "metadata": {},
   "outputs": [],
   "source": [
    "df20.dropna(inplace=True)\n",
    "df21.dropna(inplace=True)\n",
    "\n",
    "data20 = np.array(df20['contents'].tolist())\n",
    "data21 = np.array(df21['contents'].tolist())\n",
    "\n",
    "df_20 = \"\".join(data20)\n",
    "df_21 = \"\".join(data21)"
   ]
  },
  {
   "cell_type": "code",
   "execution_count": 9,
   "metadata": {},
   "outputs": [],
   "source": [
    "from konlpy.tag import Okt\n",
    "\n",
    "t = Okt()\n",
    "\n",
    "df20 = t.nouns(df_20)\n",
    "df21 = t.nouns(df_21)"
   ]
  },
  {
   "cell_type": "code",
   "execution_count": 11,
   "metadata": {},
   "outputs": [
    {
     "name": "stdout",
     "output_type": "stream",
     "text": [
      "# 20년 :  ['증여', '자기', '능력', '머', '시간여행', '유튜브', '치면', '자기', '수익', '동영상', '인증', '사람', '임', '피씨', '디렉트', '종목', '분', '공시', '그', '이후', '상승', '더', '오토', '시스', '코스닥', '상', '장사', '특수', '관계', '확인', '본인', '증여', '인정', '분', '공시', '기사', '인터뷰', '유튜브', '채널', '운영', '정도', '국세청', '유료', '리딩', '거나', '남', '돈', '굴리', '사기꾼', '유튜브', '채널', '투자', '원칙', '방법', '대해', '종목', '얘기', '외국', '증권사', '근무', '부모', '끝', '일반', '서민', '누군가', '시간여행', '예전', '슈퍼', '개미', '명', '분', '공시', '개미', '우르르', '사서', '주가', '전량', '매도', '다시', '분', '공시', '개미', '사서', '상한', '가면', '기', '반복', '남한', '제지', '슈퍼', '개미', '사건', '그때', '개미', '정도', '개미', '돈', '여의도', '선물', '아저씨']\n",
      "\n",
      "# 21년 :  ['인생', '한강', '뷰', '강물', '당', '집권', '사다리', '모든', '계층', '프로레타리아', '바', '노동', '가치', '조국', '가붕개', '살', '수', '개천', '내딸', '옛날', '빚', '집', '살', '수라도', '지금', '국민', '투기', '취급', '대출', '억압', '중꿜', '퍼주', '식구', '퍼주', '키', '인간', '세상', '작살', '내', '노동', '가보', '코인', '투기', '인생', '역전', '방법', '정권', '공정', '공평', '정의', '무너', '리', '청년', '코인', '훈계', '꼰대짓', '대부분', '인생역전', '대박', '맘', '내집마련', '결혼', '세상', '말', '나라', '다말', '인간', '뇌물', '때', '지금', '미화', '태평성대', '로', '착각', '자료', '조금', '쌍욕', '절로', '시절', '이꼬', '규제', '정분', '데', '놈', '정부', '탓', '그때', '규제', '욕', '하나', '만해', '표', '하나', '대가', '이처럼', '문디재스터', '공약', '실현', '진짜', '한번']\n"
     ]
    }
   ],
   "source": [
    "print('# 20년 : ', df20[:100])\n",
    "print()\n",
    "print('# 21년 : ', df21[:100])"
   ]
  },
  {
   "cell_type": "code",
   "execution_count": 13,
   "metadata": {},
   "outputs": [
    {
     "name": "stdout",
     "output_type": "stream",
     "text": [
      "<class 'list'>\n"
     ]
    }
   ],
   "source": [
    "print(type(df20))"
   ]
  },
  {
   "cell_type": "code",
   "execution_count": 26,
   "metadata": {},
   "outputs": [],
   "source": [
    "# 불용어 사전\n",
    "\n",
    "stop_words = ['때', '지금', '것', '더', '이', '말', '그', '거', '왜', '뭐', '수', '지금', '말', '그냥', '뭐', '일', '집', '놈', '니',\n",
    "             '진짜', '좀']\n",
    "\n",
    "df20 = [word for word in df20 if word not in stop_words]\n",
    "df21 = [word for word in df21 if word not in stop_words]"
   ]
  },
  {
   "cell_type": "code",
   "execution_count": 27,
   "metadata": {},
   "outputs": [
    {
     "name": "stdout",
     "output_type": "stream",
     "text": [
      "# 20년 상위 20개 : \n",
      "'개미' : 484\n",
      "'주식' : 434\n",
      "'돈' : 268\n",
      "'투자' : 251\n",
      "'사람' : 179\n",
      "'삼전' : 171\n",
      "'삼성' : 160\n",
      "'생각' : 154\n",
      "'전자' : 119\n",
      "'매수' : 105\n",
      "'코로나' : 105\n",
      "'빚' : 101\n",
      "'바닥' : 95\n",
      "'외국인' : 92\n",
      "'주가' : 90\n",
      "'개인' : 90\n",
      "'기관' : 86\n",
      "'민주당' : 73\n",
      "'국민' : 72\n",
      "'외인' : 71\n",
      "\n",
      "# 21년 상위 20개 : \n",
      "'돈' : 1904\n",
      "'사람' : 1446\n",
      "'코인' : 1374\n",
      "'주식' : 1319\n",
      "'국민' : 1153\n",
      "'정부' : 957\n",
      "'나라' : 868\n",
      "'투자' : 847\n",
      "'세금' : 784\n",
      "'투기' : 763\n",
      "'생각' : 743\n",
      "'정권' : 736\n",
      "'기사' : 565\n",
      "'도박' : 549\n",
      "'부동산' : 547\n",
      "'민주당' : 524\n",
      "'재앙' : 445\n",
      "'문재인' : 429\n",
      "'화폐' : 375\n",
      "'세상' : 369\n"
     ]
    }
   ],
   "source": [
    "# 빈도수 사전\n",
    "\n",
    "dict_20 = {}\n",
    "dict_21 = {}\n",
    "\n",
    "for word in df20:\n",
    "    dict_20[word] = dict_20.get(word, 0) + 1\n",
    "\n",
    "for word in df21:\n",
    "    dict_21[word] = dict_21.get(word, 0) + 1\n",
    "\n",
    "s_dict_20 = sorted(dict_20, key=dict_20.get, reverse=True)\n",
    "s_dict_21 = sorted(dict_21, key=dict_21.get, reverse=True)\n",
    "\n",
    "print('# 20년 상위 20개 : ')\n",
    "for key in s_dict_20[:20]:\n",
    "    print(f'{repr(key)} : {dict_20[key]}')\n",
    "\n",
    "print()\n",
    "print('# 21년 상위 20개 : ')\n",
    "for key in s_dict_21[:20]:\n",
    "    print(f'{repr(key)} : {dict_21[key]}')    "
   ]
  },
  {
   "cell_type": "markdown",
   "metadata": {},
   "source": [
    "## 수평 막대 그래프\n",
    "\n",
    "### **2020년 3-4월**"
   ]
  },
  {
   "cell_type": "code",
   "execution_count": 29,
   "metadata": {},
   "outputs": [
    {
     "data": {
      "image/png": "[encoded data removed]",
      "text/plain": [
       "<Figure size 432x288 with 1 Axes>"
      ]
     },
     "metadata": {
      "needs_background": "light"
     },
     "output_type": "display_data"
    }
   ],
   "source": [
    "from matplotlib import font_manager, rc\n",
    "import matplotlib.pyplot as plt\n",
    "%matplotlib inline\n",
    "\n",
    "font_name = font_manager.FontProperties(fname='c:/Windows/Fonts/malgun.ttf').get_name()\n",
    "rc('font', family=font_name)\n",
    "\n",
    "n = s_dict_20[:20][::-1]\n",
    "w = [dict_20[key] for key in n]\n",
    "\n",
    "plt.barh(range(len(n)), w, tick_label=n)\n",
    "plt.show()"
   ]
  },
  {
   "cell_type": "markdown",
   "metadata": {},
   "source": [
    "### **2021년 3~4월**"
   ]
  },
  {
   "cell_type": "code",
   "execution_count": 30,
   "metadata": {},
   "outputs": [
    {
     "data": {
      "image/png": "[encoded data removed]",
      "text/plain": [
       "<Figure size 432x288 with 1 Axes>"
      ]
     },
     "metadata": {
      "needs_background": "light"
     },
     "output_type": "display_data"
    }
   ],
   "source": [
    "font_name = font_manager.FontProperties(fname='c:/Windows/Fonts/malgun.ttf').get_name()\n",
    "rc('font', family=font_name)\n",
    "\n",
    "n = s_dict_21[:20][::-1]\n",
    "w = [dict_21[key] for key in n]\n",
    "\n",
    "plt.barh(range(len(n)), w, tick_label=n)\n",
    "plt.show()"
   ]
  },
  {
   "cell_type": "markdown",
   "metadata": {},
   "source": [
    "## 유사도 계산"
   ]
  },
  {
   "cell_type": "code",
   "execution_count": 31,
   "metadata": {},
   "outputs": [],
   "source": [
    "wf_20 = s_dict_20[:1000]\n",
    "wf_21 = s_dict_21[:1000]"
   ]
  },
  {
   "cell_type": "code",
   "execution_count": 32,
   "metadata": {},
   "outputs": [
    {
     "name": "stdout",
     "output_type": "stream",
     "text": [
      "# 20년\n",
      "CountVectorizer(analyzer='word', binary=False, decode_error='strict',\n",
      "                dtype=<class 'numpy.int64'>, encoding='utf-8', input='content',\n",
      "                lowercase=True, max_df=1.0, max_features=None, min_df=1,\n",
      "                ngram_range=(1, 1), preprocessor=None, stop_words=None,\n",
      "                strip_accents=None, token_pattern='(?u)\\\\b\\\\w\\\\w+\\\\b',\n",
      "                tokenizer=None,\n",
      "                vocabulary=['개미', '주식', '돈', '투자', '사람', '삼전', '삼성', '생각', '전자',\n",
      "                            '매수', '코로나', '빚', '바닥', '외국인', '주가', '개인', '기관',\n",
      "                            '민주당', '국민', '외인', '임', '개', '계속', '시작', '점', '절대',\n",
      "                            '나라', '폭락', '이상', '문제', ...])\n",
      "\n"
     ]
    }
   ],
   "source": [
    "from sklearn.feature_extraction.text import CountVectorizer\n",
    "\n",
    "cv20 = CountVectorizer(vocabulary=wf_20)\n",
    "cv21 = CountVectorizer(vocabulary=wf_21)\n",
    "\n"
   ]
  },
  {
   "cell_type": "code",
   "execution_count": 37,
   "metadata": {},
   "outputs": [],
   "source": [
    "df20_cv = cv20.fit_transform([df_20])\n",
    "df21_cv = cv21.fit_transform([df_21])"
   ]
  },
  {
   "cell_type": "code",
   "execution_count": 38,
   "metadata": {},
   "outputs": [
    {
     "name": "stdout",
     "output_type": "stream",
     "text": [
      "[[0.43979995]]\n"
     ]
    }
   ],
   "source": [
    "from sklearn.metrics.pairwise import cosine_similarity\n",
    "\n",
    "sim_result = cosine_similarity(df20_cv, df21_cv)\n",
    "print(sim_result)"
   ]
  }
 ],
 "metadata": {
  "kernelspec": {
   "display_name": "Python 3",
   "language": "python",
   "name": "python3"
  },
  "language_info": {
   "codemirror_mode": {
    "name": "ipython",
    "version": 3
   },
   "file_extension": ".py",
   "mimetype": "text/x-python",
   "name": "python",
   "nbconvert_exporter": "python",
   "pygments_lexer": "ipython3",
   "version": "3.7.3"
  }
 },
 "nbformat": 4,
 "nbformat_minor": 2
}
