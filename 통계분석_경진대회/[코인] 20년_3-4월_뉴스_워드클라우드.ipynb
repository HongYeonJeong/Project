{
 "cells": [
  {
   "cell_type": "markdown",
   "metadata": {
    "toc": true
   },
   "source": [
    "<h1>Table of Contents<span class=\"tocSkip\"></span></h1>\n",
    "<div class=\"toc\"><ul class=\"toc-item\"><li><span><a href=\"#파일-읽기\" data-toc-modified-id=\"파일-읽기-1\"><span class=\"toc-item-num\">1&nbsp;&nbsp;</span>파일 읽기</a></span></li><li><span><a href=\"#토크나이즈\" data-toc-modified-id=\"토크나이즈-2\"><span class=\"toc-item-num\">2&nbsp;&nbsp;</span>토크나이즈</a></span></li><li><span><a href=\"#품사-태깅\" data-toc-modified-id=\"품사-태깅-3\"><span class=\"toc-item-num\">3&nbsp;&nbsp;</span>품사 태깅</a></span></li><li><span><a href=\"#불용어-제거\" data-toc-modified-id=\"불용어-제거-4\"><span class=\"toc-item-num\">4&nbsp;&nbsp;</span>불용어 제거</a></span></li><li><span><a href=\"#빈도수-사전\" data-toc-modified-id=\"빈도수-사전-5\"><span class=\"toc-item-num\">5&nbsp;&nbsp;</span>빈도수 사전</a></span></li><li><span><a href=\"#워드-클라우드\" data-toc-modified-id=\"워드-클라우드-6\"><span class=\"toc-item-num\">6&nbsp;&nbsp;</span>워드 클라우드</a></span></li></ul></div>"
   ]
  },
  {
   "cell_type": "markdown",
   "metadata": {},
   "source": [
    "# **코인_뉴스_원문_20년 3월 4월**"
   ]
  },
  {
   "cell_type": "markdown",
   "metadata": {},
   "source": [
    "### 파일 읽기"
   ]
  },
  {
   "cell_type": "code",
   "execution_count": 1,
   "metadata": {},
   "outputs": [
    {
     "name": "stdout",
     "output_type": "stream",
     "text": [
      "<class 'str'>\n"
     ]
    }
   ],
   "source": [
    "import pandas as pd\n",
    "import numpy as np\n",
    "\n",
    "df = pd.read_csv(\"news_article_Naver_coin_20_34.csv\")\n",
    "df_data = str(np.array(df['contents'].tolist()))\n",
    "print(type(df_data))"
   ]
  },
  {
   "cell_type": "markdown",
   "metadata": {},
   "source": [
    "### 토크나이즈"
   ]
  },
  {
   "cell_type": "code",
   "execution_count": 2,
   "metadata": {},
   "outputs": [
    {
     "name": "stdout",
     "output_type": "stream",
     "text": [
      "84536\n"
     ]
    }
   ],
   "source": [
    "from konlpy.tag import Okt\n",
    "\n",
    "t = Okt()\n",
    "tokens = t.morphs(df_data)\n",
    "print(len(tokens))"
   ]
  },
  {
   "cell_type": "markdown",
   "metadata": {},
   "source": [
    "### 품사 태깅"
   ]
  },
  {
   "cell_type": "code",
   "execution_count": 3,
   "metadata": {},
   "outputs": [
    {
     "name": "stdout",
     "output_type": "stream",
     "text": [
      "[('[\"[\\'\\\\\\\\', 'Punctuation'), ('n', 'Alpha'), ('\\\\\\\\', 'Punctuation'), ('n', 'Alpha'), ('\\\\\\\\', 'Punctuation'), ('n', 'Alpha'), ('\\\\\\\\', 'Punctuation'), ('n', 'Alpha'), ('\\\\\\\\', 'Punctuation'), ('n', 'Alpha'), ('©', 'Foreign'), ('정켈', 'Noun'), ('그림', 'Noun'), ('“', 'Foreign'), ('비트코인', 'Noun'), ('으로', 'Josa'), ('돈', 'Noun'), ('벌어', 'Verb'), ('OP', 'Alpha'), ('(', 'Punctuation'), ('오피스텔', 'Noun'), ('성매매', 'Noun'), (')', 'Punctuation'), ('가야', 'Noun'), ('지', 'Josa'), ('.', 'Punctuation'), ('”', 'Foreign'), ('비트코인', 'Noun'), ('열풍', 'Noun'), ('이', 'Josa'), ('한창', 'Noun'), ('이던', 'Josa'), ('때', 'Noun'), ('ㄱ', 'KoreanParticle'), ('의', 'Noun'), ('남성', 'Noun'), ('직장', 'Noun'), ('동료', 'Noun'), ('들', 'Suffix'), ('은', 'Josa'), ('이런', 'Adjective'), ('대화', 'Noun'), ('를', 'Josa'), ('나누며', 'Verb'), ('정답', 'Noun'), ('게', 'Josa'), ('낄낄거렸다', 'Noun'), ('고', 'Josa'), ('한다', 'Verb'), ('.', 'Punctuation'), ('비트코인', 'Noun'), ('이', 'Josa'), ('온라인', 'Noun'), ('메신저', 'Noun'), ('텔레', 'Noun'), ('그램', 'Noun'), ('‘', 'Foreign'), ('n', 'Alpha'), ('번방', 'Noun'), ('’', 'Punctuation'), ('의', 'Noun'), ('주요', 'Noun'), ('거래', 'Noun'), ('수단', 'Noun'), ('으로', 'Josa'), ('사용', 'Noun'), ('된다는', 'Verb'), ('말', 'Noun'), ('을', 'Josa'), ('들었을', 'Verb'), ('때', 'Noun'), ('그', 'Noun'), ('낄낄', 'Noun'), ('거림', 'Noun'), ('이', 'Josa'), ('생각났다', 'Verb'), ('.', 'Punctuation'), ('비트코인', 'Noun'), ('에', 'Josa'), ('투자', 'Noun'), ('하던', 'Verb'), ('모든', 'Noun'), ('남성', 'Noun'), ('이', 'Josa'), ('그런', 'Adjective'), ('것', 'Noun'), ('은', 'Josa'), ('아니겠으나', 'Adjective'), ('날로', 'Noun'), ('발전', 'Noun'), ('하는', 'Verb'), ('기술', 'Noun'), ('이', 'Josa'), ('남성', 'Noun'), ('들', 'Suffix'), ('의', 'Josa'), ('성', 'Modifier'), ('착취', 'Noun'), ('문화', 'Noun'), ('를', 'Josa'), ('풍요롭', 'Noun'), ('게', 'Josa'), ('하는', 'Verb'), ('데', 'Noun'), ('기여', 'Noun'), ('하는', 'Verb'), ('건', 'Noun'), ('분명해', 'Adjective'), ('보인다', 'Verb'), ('.', 'Punctuation'), ('기술', 'Noun'), ('발전', 'Noun'), ('이', 'Josa'), ('만들어', 'Verb'), ('낸', 'Verb'), ('디스토피아', 'Noun'), ('문', 'Modifier'), ('명의', 'Noun'), ('발전', 'Noun'), ('이', 'Josa'), ('인간', 'Noun'), ('에게', 'Josa'), ('꼭', 'Noun'), ('좋은', 'Adjective'), ('일인', 'Noun'), ('가', 'Josa'), ('?', 'Punctuation'), ('우리', 'Noun'), ('는', 'Josa'), ('날로', 'Noun'), ('발전', 'Noun'), ('하는', 'Verb'), ('기술', 'Noun'), ('을', 'Josa'), ('누릴', 'Verb'), ('자격', 'Noun'), ('이', 'Josa'), ('있을까', 'Adjective'), ('?', 'Punctuation'), ('사회', 'Noun'), ('에', 'Josa'), ('만연한', 'Adjective'), ('성', 'Modifier'), ('착취', 'Noun'), ('문화', 'Noun'), ('와', 'Josa'), (',', 'Punctuation'), ('인간', 'Noun'), ('을', 'Josa'), ('도구', 'Noun'), ('화하는', 'Adjective'), ('자본', 'Noun'), ('과', 'Josa'), ('기술', 'Noun'), ('이라는', 'Josa'), ('악마', 'Noun'), ('가', 'Josa'), ('우리', 'Noun'), ('머리', 'Noun'), ('꼭대기', 'Noun'), ('에', 'Josa'), ('앉아', 'Verb'), ('조종', 'Noun'), ('하며', 'Verb'), ('낄낄', 'Noun'), ('거리', 'Noun'), ('고', 'Josa'), ('있는', 'Adjective'), ('건', 'Noun'), ('아닐까', 'Adjective'), ('싶을', 'Verb'), ('때', 'Noun'), ('가', 'Josa'), ('많기', 'Adjective'), ('때문', 'Noun'), ('이다', 'Josa'), ('.', 'Punctuation'), ('플랫폼', 'Noun'), ('이란', 'Josa'), ('본디', 'Noun'), ('기차', 'Noun'), ('를', 'Josa'), ('타고', 'Noun'), ('내리는', 'Verb'), ('곳', 'Noun'), ('을', 'Josa'), ('의미', 'Noun'), ('하는', 'Verb'), ('단어였다', 'Verb'), ('.', 'Punctuation'), ('이', 'Noun'), ('단어', 'Noun'), ('가', 'Josa'), ('복잡해지는', 'Adjective'), ('사회', 'Noun'), ('변화', 'Noun'), ('에', 'Josa'), ('맞춰', 'Verb'), ('여러', 'Noun'), ('의미', 'Noun'), ('로', 'Josa'), ('파생', 'Noun'), ('되고', 'Verb'), ('있다', 'Adjective'), ('.', 'Punctuation'), ('플랫폼', 'Noun'), ('이', 'Josa'), ('디지털', 'Noun'), ('과', 'Josa'), ('만나면', 'Verb'), ('노인', 'Noun'), ('이나', 'Josa'), ('장애인', 'Noun'), ('등', 'Noun'), ('기술', 'Noun'), ('에서', 'Josa'), ('소외', 'Noun'), ('되는', 'Verb'), ('인간', 'Noun'), ('을', 'Josa'), ('양산', 'Noun'), ('한다', 'Verb'), ('.', 'Punctuation'), ('다른', 'Noun'), ('한편', 'Noun'), ('으로는', 'Josa'), ('착취', 'Noun'), ('구조', 'Noun'), ('가', 'Josa'), ('형성', 'Noun'), ('된다', 'Verb'), ('.', 'Punctuation'), ('‘', 'Foreign'), ('플랫폼', 'Noun'), ('노동자', 'Noun'), ('’', 'Punctuation'), ('는', 'Verb'), ('현', 'Modifier'), ('대', 'Modifier'), ('사회', 'Noun'), ('의', 'Josa'), ('노동', 'Noun'), ('문제', 'Noun'), ('를', 'Josa'), ('가장', 'Noun'), ('극적', 'Noun'), ('으로', 'Josa'), ('드러내는', 'Verb'), ('단어', 'Noun'), ('다', 'Josa'), ('.', 'Punctuation'), ('다른', 'Noun'), ('한편', 'Noun'), ('으로는', 'Josa'), ('여성', 'Noun'), ('을', 'Josa'), ('성적', 'Noun'), ('으로', 'Josa'), ('착취', 'Noun'), ('하는', 'Verb'), ('잔혹한', 'Adjective'), ('범죄', 'Noun'), ('수단', 'Noun'), ('으로', 'Josa'), ('사용', 'Noun'), ('되', 'Verb'), ('기도', 'Noun'), ('한다', 'Verb'), ('.', 'Punctuation'), ('남성', 'Noun'), ('들', 'Suffix'), ('은', 'Josa'), ('굳이', 'Noun'), ('성매매', 'Noun'), ('업소', 'Noun'), ('를', 'Josa'), ('찾아가는', 'Verb'), ('노력', 'Noun'), ('을', 'Josa'), ('하지', 'Verb'), ('않아도', 'Verb'), ('플랫폼', 'Noun'), ('에', 'Josa'), ('접속', 'Noun'), ('하여', 'Verb'), ('클릭', 'Noun'), ('몇', 'Noun'), ('번만', 'Noun'), ('하면', 'Verb'), ('성적', 'Noun'), ('욕구', 'Noun'), ('를', 'Josa'), ('충족', 'Noun'), ('할', 'Verb'), ('대상', 'Noun'), ('을', 'Josa'), ('찾거나', 'Verb'), ('자신', 'Noun'), ('이', 'Josa'), ('명령', 'Noun')]\n"
     ]
    }
   ],
   "source": [
    "print(t.pos(df_data)[:300])"
   ]
  },
  {
   "cell_type": "code",
   "execution_count": 4,
   "metadata": {},
   "outputs": [
    {
     "name": "stdout",
     "output_type": "stream",
     "text": [
      "37622\n",
      "['정켈', '그림', '비트코인', '돈', '오피스텔', '성매매', '가야', '비트코인', '열풍', '한창', '때', '의', '남성', '직장', '동료', '대화', '정답', '낄낄거렸다', '비트코인', '온라인', '메신저', '텔레', '그램', '번방', '의', '주요', '거래', '수단', '사용', '말', '때', '그', '낄낄', '거림', '비트코인', '투자', '모든', '남성', '것', '날로', '발전', '기술', '남성', '착취', '문화', '풍요롭', '데', '기여', '건', '기술', '발전', '디스토피아', '명의', '발전', '인간', '꼭', '일인', '우리', '날로', '발전', '기술', '자격', '사회', '착취', '문화', '인간', '도구', '자본', '기술', '악마', '우리', '머리', '꼭대기', '조종', '낄낄', '거리', '건', '때', '때문', '플랫폼', '본디', '기차', '타고', '곳', '의미', '이', '단어', '사회', '변화', '여러', '의미', '파생', '플랫폼', '디지털', '노인', '장애인', '등', '기술', '소외', '인간', '양산', '다른', '한편', '착취', '구조', '형성', '플랫폼', '노동자', '사회', '노동', '문제', '가장', '극적', '단어', '다른', '한편', '여성', '성적', '착취', '범죄', '수단', '사용', '기도', '남성', '굳이', '성매매', '업소', '노력', '플랫폼', '접속', '클릭', '몇', '번만', '성적', '욕구', '충족', '대상', '자신', '명령', '대로', '노예', '를', '구매', '수', '플랫폼', '단지', '왜곡', '성적', '욕망', '충족', '것', '인간', '양심', '상식', '초월', '인간', '유형', '번방', '사건', '관', '여러', '말', '중', '가장', '충격', '반응', '그', '방', '이용', '남성', '글', '그', '범죄', '것', '성인', '콘텐츠', '이용', '료', '시청', '게', '잘못', '자기', '몸', '영상', '음란', '녀', '이', '영상', '안', '피해자', '것', '말', '피해자', '자신', '범죄자', '취급', '게', '것', '피해', '당한']\n"
     ]
    }
   ],
   "source": [
    "my_words = t.nouns(df_data)\n",
    "\n",
    "print(len(my_words))\n",
    "print(my_words[:200])"
   ]
  },
  {
   "cell_type": "code",
   "execution_count": 6,
   "metadata": {},
   "outputs": [
    {
     "name": "stdout",
     "output_type": "stream",
     "text": [
      "'돈' : 87\n",
      "\n"
     ]
    }
   ],
   "source": [
    "money = [word for word in my_words if word == '돈']\n",
    "money_dict = {}\n",
    "for word in money:\n",
    "    money_dict[word] = money_dict.get(word, 0) + 1\n",
    "\n",
    "for key in money_dict:\n",
    "    print(f'{repr(key)} : {money_dict[key]}')\n",
    "    print()"
   ]
  },
  {
   "cell_type": "markdown",
   "metadata": {},
   "source": [
    "### 불용어 제거"
   ]
  },
  {
   "cell_type": "code",
   "execution_count": 7,
   "metadata": {},
   "outputs": [
    {
     "name": "stdout",
     "output_type": "stream",
     "text": [
      "['정켈', '그림', '비트코인', '오피스텔', '성매매', '가야', '비트코인', '열풍', '한창', '남성', '직장', '동료', '대화', '정답', '낄낄거렸다', '비트코인', '온라인', '메신저', '텔레', '그램', '번방', '주요', '거래', '수단', '사용', '낄낄', '거림', '비트코인', '투자', '모든', '남성', '날로', '발전', '기술', '남성', '착취', '문화', '풍요롭', '기여', '기술', '발전', '디스토피아', '명의', '발전', '인간', '일인', '우리', '날로', '발전', '기술', '자격', '사회', '착취', '문화', '인간', '도구', '자본', '기술', '악마', '우리', '머리', '꼭대기', '조종', '낄낄', '거리', '때문', '플랫폼', '본디', '기차', '타고', '의미', '단어', '사회', '변화', '여러', '의미', '파생', '플랫폼', '디지털', '노인', '장애인', '기술', '소외', '인간', '양산', '다른', '한편', '착취', '구조', '형성', '플랫폼', '노동자', '사회', '노동', '문제', '가장', '극적', '단어', '다른', '한편', '여성', '성적', '착취', '범죄', '수단', '사용', '기도', '남성', '굳이', '성매매', '업소', '노력', '플랫폼', '접속', '클릭', '번만', '성적', '욕구', '충족', '대상', '자신', '명령', '대로', '노예', '구매', '플랫폼', '단지', '왜곡', '성적', '욕망', '충족', '인간', '양심', '상식', '초월', '인간', '유형', '번방', '사건', '여러', '가장', '충격', '반응', '이용', '남성', '범죄', '성인', '콘텐츠', '이용', '시청', '잘못', '자기', '영상', '음란', '영상', '피해자', '피해자', '자신', '범죄자', '취급', '피해', '당한', '여성', '죄책감', '따윈', '단호', '태도', '단지', '두운', '구석', '야동', '수준', '초월', '착취', '범죄', '마치', '넷플릭스', '콘텐츠', '구독', '서비스', '이용', '구매', '정도', '인간', '세상', '인식', '기술', '발전', '인간', '상상', '여러', '판타지', '현실', '한편', '디스토피아', '가속', '번방', '충격', '증언', '번방', '부수', '범과', '공범', '형량', '부과', '번방', '바깥', '존재', '나날이', '진화', '각종', '기술', '감당', '준비', '번방', '사건', '질문', '구글', '여성', '차별', '저자', '사피', '우모', '노블', '통제', '윤리', '기술', '초래', '문제', '로부터', '우리', '보호', '공공정책', '마련', '무엇', '질문', '제도', '플랫폼', '방치', '동안', '피해자', '피해자', '연대', '여성', '먼저', '번방', '존재', '세상', '처음', '대학생', '디지털', '성폭력', '대응', '플랫폼', '페미니스트', '폭력', '플랫폼', '파도', '앞서', '비로소', '제도', '보완', '기회', '바이러스', '창궐', '시대', '그것', '백신', '준비', '날로', '발전', '기술', '감당', '윤리', '감각', '촘촘', '제도', '오수경', '자유', '기고가', '뉴스', '분석', '시사', '시사', '구독', '시사', '무단', '배포', '금지', '머니투데이', '이재은', '기자', '오후', '코인', '노래방', '사진', '이재은', '기자', '고등학교', '개학']\n"
     ]
    }
   ],
   "source": [
    "tokens =  [word for word in my_words if len(word) > 1]\n",
    "print(tokens[:300])"
   ]
  },
  {
   "cell_type": "code",
   "execution_count": 11,
   "metadata": {},
   "outputs": [],
   "source": [
    "stop_words = ['가장', '때문', '통해', '대해', '위해', '관련', '정도', '지금', '최근',\n",
    "             '다른', '지금', '라며', '하나', '지난', '이상', '사진', '우리', '사실',\n",
    "             '경우', '크게', '오후', '하루', '이후', '올해', '확인', '결과', '모두',\n",
    "             '하우스', '이번', '현재', '이유', '사례', '심사', '진행', '특급', '여러',\n",
    "             '위원', '가지', '자신', '보고', '회장', '명칭', '채널', '지원', '진자',\n",
    "             '업자', '정말', '계속', '자영', '대한', '이제', '두기', '공동', '조씨',\n",
    "             '한편', '이용', '시작', '직접', '실제', '그램', '황현희', '지난해', \n",
    "             '부분', '노예', '제공', '번방', '텔레', '진행자', '신천지', '오늘', '최주',\n",
    "             '비대', '적용', '장원', '문제', '저희', '신유진', '트로트', '얘기', '협조',\n",
    "             '경찰', '착취', '범죄', '피해자', '음란물', '청소년', '금지', '노래방', '박사',\n",
    "             '여성', '편의점', '처벌', '운영', '사건', '아동', '고담', '압수수색', '마이크',\n",
    "             '김현정', '영상', '설명', '한세상', '배포', '다시', '고의', '퍼스트', '세대',\n",
    "             '연산', '남성', '대화방', '검찰', '인천', '부산', '말씀', '수사', '확보', '취재',\n",
    "             '오피스텔', '서울', '당시', '피해', '입소', '모습', '상가', '그것', '사태', '기준',\n",
    "             '집단', '보도', '요즘', '공사', '기부', '회원', '성범죄', '추적', '지역',\n",
    "             '처음', '마음', '디지털', '이야기', '강제', '사람', '아이', '기사', '상황',\n",
    "             '활동', '보기', '자체', '기자']\n",
    "\n",
    "\n",
    "my_words = [word for word in tokens if word not in stop_words]"
   ]
  },
  {
   "cell_type": "markdown",
   "metadata": {},
   "source": [
    "### 빈도수 사전"
   ]
  },
  {
   "cell_type": "code",
   "execution_count": 12,
   "metadata": {},
   "outputs": [
    {
     "name": "stdout",
     "output_type": "stream",
     "text": [
      "'돈' : 462\n",
      "\n",
      "'코로나' : 192\n",
      "\n",
      "'생각' : 142\n",
      "\n",
      "'마스크' : 114\n",
      "\n",
      "'대학생' : 99\n",
      "\n",
      "'투자' : 94\n",
      "\n",
      "'뉴스' : 90\n",
      "\n",
      "'서비스' : 84\n",
      "\n",
      "'코인' : 79\n",
      "\n",
      "'사회' : 73\n",
      "\n",
      "'감염' : 67\n",
      "\n",
      "'주식' : 66\n",
      "\n",
      "'시설' : 59\n",
      "\n",
      "'공유' : 59\n",
      "\n",
      "'화폐' : 57\n",
      "\n",
      "'온라인' : 56\n",
      "\n",
      "'개인' : 56\n",
      "\n",
      "'주거' : 56\n",
      "\n",
      "'정상근' : 56\n",
      "\n",
      "'투자자' : 55\n",
      "\n",
      "'단체' : 51\n",
      "\n",
      "'자료' : 50\n",
      "\n",
      "'봉사활동' : 47\n",
      "\n",
      "'구독' : 46\n",
      "\n",
      "'분석' : 45\n",
      "\n",
      "'시간' : 45\n",
      "\n",
      "'한국' : 41\n",
      "\n",
      "'강의' : 41\n",
      "\n",
      "'주택' : 40\n",
      "\n",
      "'생활' : 40\n",
      "\n",
      "'거리' : 39\n",
      "\n",
      "'정보' : 39\n",
      "\n",
      "'관리' : 39\n",
      "\n",
      "'방역' : 39\n",
      "\n",
      "'친구' : 38\n",
      "\n",
      "'전자' : 38\n",
      "\n",
      "'시장' : 37\n",
      "\n",
      "'권영철' : 37\n",
      "\n",
      "'무단' : 36\n",
      "\n",
      "'우려' : 36\n",
      "\n",
      "'아파트' : 36\n",
      "\n",
      "'경제' : 36\n",
      "\n",
      "'대화' : 35\n",
      "\n",
      "'계획' : 35\n",
      "\n",
      "'병원' : 35\n",
      "\n",
      "'학교' : 34\n",
      "\n",
      "'암호' : 34\n",
      "\n",
      "'조사' : 34\n",
      "\n",
      "'공급' : 34\n",
      "\n",
      "'청년' : 34\n",
      "\n",
      "'교수' : 34\n",
      "\n",
      "'위험' : 33\n",
      "\n",
      "'가구' : 33\n",
      "\n",
      "'사업' : 33\n",
      "\n",
      "'비트코인' : 32\n",
      "\n",
      "'구매' : 32\n",
      "\n",
      "'직원' : 32\n",
      "\n",
      "'기업' : 32\n",
      "\n",
      "'참여' : 32\n",
      "\n",
      "'센터' : 32\n",
      "\n",
      "'삼성' : 31\n",
      "\n",
      "'일부' : 31\n",
      "\n",
      "'행복' : 31\n",
      "\n",
      "'수익' : 31\n",
      "\n",
      "'분양' : 31\n",
      "\n",
      "'기술' : 30\n",
      "\n",
      "'공개' : 30\n",
      "\n",
      "'접촉' : 30\n",
      "\n",
      "'환불' : 30\n",
      "\n",
      "'커뮤니티' : 29\n",
      "\n",
      "'전국' : 29\n",
      "\n",
      "'제대로' : 29\n",
      "\n",
      "'거부' : 29\n",
      "\n",
      "'한겨레' : 29\n",
      "\n",
      "'가상' : 29\n",
      "\n",
      "'연산역' : 29\n",
      "\n",
      "'명의' : 28\n",
      "\n",
      "'단지' : 28\n",
      "\n",
      "'방문' : 28\n",
      "\n",
      "'대학' : 28\n",
      "\n",
      "'오히려' : 28\n",
      "\n",
      "'확진' : 28\n",
      "\n",
      "'임대주택' : 28\n",
      "\n",
      "'신상' : 28\n",
      "\n",
      "'사이트' : 28\n",
      "\n",
      "'유포' : 28\n",
      "\n",
      "'일단' : 28\n",
      "\n",
      "'광주' : 28\n",
      "\n",
      "'리미' : 28\n",
      "\n",
      "'행정조사' : 28\n",
      "\n",
      "'거래' : 27\n",
      "\n",
      "'학원' : 27\n",
      "\n",
      "'확산' : 27\n",
      "\n",
      "'네이버' : 27\n",
      "\n",
      "'관계자' : 27\n",
      "\n",
      "'대표' : 27\n",
      "\n",
      "'상태' : 27\n",
      "\n",
      "'업체' : 27\n",
      "\n",
      "'프로그램' : 27\n",
      "\n",
      "'텔레그램' : 27\n",
      "\n"
     ]
    }
   ],
   "source": [
    "article_dict = {}\n",
    "\n",
    "for word in my_words:\n",
    "    article_dict[word] = article_dict.get(word, 0) + 1\n",
    "\n",
    "article_dict['돈'] = 462\n",
    "sorted_dict = sorted(article_dict, key=article_dict.get, reverse=True)\n",
    "\n",
    "for key in sorted_dict[:100]:\n",
    "    print(f'{repr(key)} : {article_dict[key]}')\n",
    "    print()"
   ]
  },
  {
   "cell_type": "markdown",
   "metadata": {},
   "source": [
    "### 워드 클라우드"
   ]
  },
  {
   "cell_type": "code",
   "execution_count": 13,
   "metadata": {},
   "outputs": [
    {
     "data": {
      "image/png": "[encoded data removed]",
      "text/plain": [
       "<Figure size 432x288 with 1 Axes>"
      ]
     },
     "metadata": {
      "needs_background": "light"
     },
     "output_type": "display_data"
    }
   ],
   "source": [
    "from matplotlib import font_manager, rc\n",
    "import matplotlib.pyplot as plt\n",
    "%matplotlib inline\n",
    "\n",
    "from wordcloud import WordCloud\n",
    "from PIL import Image\n",
    "\n",
    "font_path = 'c:/Windows/Fonts/malgun.ttf'\n",
    "image = np.array(Image.open('circle.png'))\n",
    "\n",
    "wc = WordCloud(\n",
    "    font_path = font_path,\n",
    "    width = 800,\n",
    "    height = 400,\n",
    "    mask = image,\n",
    "    background_color = 'white',\n",
    "    max_words = 80)\n",
    "\n",
    "wc.generate_from_frequencies(article_dict)\n",
    "\n",
    "wc.to_file('article_coin_20_34.png')\n",
    "\n",
    "plt.figure()\n",
    "plt.axis('off')\n",
    "plt.imshow(wc, interpolation='bilinear')\n",
    "plt.show()"
   ]
  },
  {
   "cell_type": "code",
   "execution_count": null,
   "metadata": {},
   "outputs": [],
   "source": []
  }
 ],
 "metadata": {
  "kernelspec": {
   "display_name": "Python 3",
   "language": "python",
   "name": "python3"
  },
  "language_info": {
   "codemirror_mode": {
    "name": "ipython",
    "version": 3
   },
   "file_extension": ".py",
   "mimetype": "text/x-python",
   "name": "python",
   "nbconvert_exporter": "python",
   "pygments_lexer": "ipython3",
   "version": "3.7.3"
  },
  "toc": {
   "base_numbering": 1,
   "nav_menu": {},
   "number_sections": true,
   "sideBar": true,
   "skip_h1_title": true,
   "title_cell": "Table of Contents",
   "title_sidebar": "Contents",
   "toc_cell": true,
   "toc_position": {},
   "toc_section_display": true,
   "toc_window_display": false
  }
 },
 "nbformat": 4,
 "nbformat_minor": 2
}
